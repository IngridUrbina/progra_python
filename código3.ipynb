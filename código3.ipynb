{
  "metadata": {
    "language_info": {
      "codemirror_mode": {
        "name": "python",
        "version": 3
      },
      "file_extension": ".py",
      "mimetype": "text/x-python",
      "name": "python",
      "nbconvert_exporter": "python",
      "pygments_lexer": "ipython3",
      "version": "3.8"
    },
    "kernelspec": {
      "name": "python",
      "display_name": "Python (Pyodide)",
      "language": "python"
    }
  },
  "nbformat_minor": 4,
  "nbformat": 4,
  "cells": [
    {
      "cell_type": "code",
      "source": "# Pedir al usuario que ingrese un número\nnumero = float(input(\"Ingresa un número: \"))\n\n# Calcular el cuadrado y el cubo del número\ncuadrado = numero ** 2\ncubo = numero ** 3\n\n# Imprimir los resultados\nprint(f\"El cuadrado de {numero} es: {cuadrado}\")\nprint(f\"El cubo de {numero} es: {cubo}\")\n",
      "metadata": {},
      "execution_count": null,
      "outputs": []
    }
  ]
}